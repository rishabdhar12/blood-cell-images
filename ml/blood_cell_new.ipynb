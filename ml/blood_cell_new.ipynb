{
  "nbformat": 4,
  "nbformat_minor": 0,
  "metadata": {
    "kernelspec": {
      "display_name": "Python 3",
      "language": "python",
      "name": "python3"
    },
    "language_info": {
      "codemirror_mode": {
        "name": "ipython",
        "version": 3
      },
      "file_extension": ".py",
      "mimetype": "text/x-python",
      "name": "python",
      "nbconvert_exporter": "python",
      "pygments_lexer": "ipython3",
      "version": "3.7.6"
    },
    "colab": {
      "name": "blood_cell_new.ipynb",
      "provenance": [],
      "collapsed_sections": []
    },
    "accelerator": "GPU"
  },
  "cells": [
    {
      "cell_type": "code",
      "metadata": {
        "colab": {
          "base_uri": "https://localhost:8080/"
        },
        "id": "J52jTlUMjyqO",
        "outputId": "f8d2902f-7d9e-4e3f-977e-dc60cd5234f5"
      },
      "source": [
        "# Jovian Commit Essentials\n",
        "# Please retain and execute this cell without modifying the contents for `jovian.commit` to work\n",
        "!pip install jovian --upgrade -q\n",
        "import jovian\n",
        "jovian.set_project('tf-pipeline')\n",
        "jovian.set_colab_id('1HiS3bfAXLRHkbO_2PLiux_u93CGLyEmw')"
      ],
      "execution_count": 1,
      "outputs": [
        {
          "output_type": "stream",
          "text": [
            "\u001b[?25l\r\u001b[K     |████▉                           | 10kB 25.5MB/s eta 0:00:01\r\u001b[K     |█████████▊                      | 20kB 16.5MB/s eta 0:00:01\r\u001b[K     |██████████████▌                 | 30kB 13.9MB/s eta 0:00:01\r\u001b[K     |███████████████████▍            | 40kB 12.7MB/s eta 0:00:01\r\u001b[K     |████████████████████████▏       | 51kB 8.3MB/s eta 0:00:01\r\u001b[K     |█████████████████████████████   | 61kB 9.6MB/s eta 0:00:01\r\u001b[K     |████████████████████████████████| 71kB 5.3MB/s \n",
            "\u001b[?25h  Building wheel for uuid (setup.py) ... \u001b[?25l\u001b[?25hdone\n"
          ],
          "name": "stdout"
        }
      ]
    },
    {
      "cell_type": "code",
      "metadata": {
        "id": "e_2DOPK_jyqo"
      },
      "source": [
        "!pip install jovian --upgrade --quiet"
      ],
      "execution_count": 2,
      "outputs": []
    },
    {
      "cell_type": "code",
      "metadata": {
        "colab": {
          "base_uri": "https://localhost:8080/"
        },
        "id": "z7myNx_bjyqs",
        "outputId": "6d836f51-aebc-4dbc-f0cf-c3f9420c5d71"
      },
      "source": [
        "from google.colab import drive\n",
        "drive.mount('/content/gdrive')"
      ],
      "execution_count": 3,
      "outputs": [
        {
          "output_type": "stream",
          "text": [
            "Mounted at /content/gdrive\n"
          ],
          "name": "stdout"
        }
      ]
    },
    {
      "cell_type": "code",
      "metadata": {
        "id": "acFWpANMkj25"
      },
      "source": [
        "!mkdir -p ~/.kaggle\n",
        "!cp kaggle.json ~/.kaggle/\n",
        "!chmod 600 /root/.kaggle/kaggle.json\n",
        "!echo '{\"username\":\"rishabdhar1619\",\"key\":\"e98cc96416187e523deb76d1e6737988\"}' > ../root/.kaggle/kaggle.json\n",
        "!kaggle datasets download -d paultimothymooney/blood-cells\n",
        "!ls\n",
        "!unzip \\*.zip  && rm *.zip"
      ],
      "execution_count": null,
      "outputs": []
    },
    {
      "cell_type": "code",
      "metadata": {
        "id": "FDeZny3bkqq1"
      },
      "source": [
        "train_path = '/content/dataset2-master/dataset2-master/images/TRAIN'\n",
        "test_path = '/content/dataset2-master/dataset2-master/images/TEST'"
      ],
      "execution_count": 5,
      "outputs": []
    },
    {
      "cell_type": "code",
      "metadata": {
        "id": "764VtnDgk6CC"
      },
      "source": [
        "import os\n",
        "import matplotlib.pyplot as plt\n",
        "import tensorflow as tf\n",
        "import cv2\n",
        "import pandas as pd\n",
        "import numpy as np\n",
        "import sklearn\n",
        "\n",
        "import warnings\n",
        "warnings.filterwarnings('ignore')"
      ],
      "execution_count": 6,
      "outputs": []
    },
    {
      "cell_type": "code",
      "metadata": {
        "id": "2vaF4FOanVrw"
      },
      "source": [
        "train_generator = tf.keras.preprocessing.image.ImageDataGenerator(\n",
        "    validation_split = 0.15,\n",
        "    shear_range = 0.2,\n",
        "    zoom_range = 0.2,\n",
        "    horizontal_flip = True,\n",
        "    vertical_flip = True\n",
        ")\n",
        "\n",
        "test_generator = tf.keras.preprocessing.image.ImageDataGenerator()"
      ],
      "execution_count": 7,
      "outputs": []
    },
    {
      "cell_type": "code",
      "metadata": {
        "colab": {
          "base_uri": "https://localhost:8080/"
        },
        "id": "_0-FqofcnVo_",
        "outputId": "81a07e81-9f73-485a-a0b0-67075103419e"
      },
      "source": [
        "train_images = train_generator.flow_from_directory(train_path,\n",
        "                                                   shuffle=True,\n",
        "                                                   target_size=(224,224),\n",
        "                                                   subset='training',\n",
        "                                                   batch_size=32)\n",
        "\n",
        "test_images = test_generator.flow_from_directory(test_path,\n",
        "                                                 shuffle=False,\n",
        "                                                 target_size=(224,224),\n",
        "                                                 batch_size=32)\n",
        "\n",
        "val_images = train_generator.flow_from_directory(train_path,\n",
        "                                                 shuffle=True,\n",
        "                                                 target_size=(224,224),\n",
        "                                                 subset='validation',\n",
        "                                                 batch_size=32,)"
      ],
      "execution_count": 8,
      "outputs": [
        {
          "output_type": "stream",
          "text": [
            "Found 8466 images belonging to 4 classes.\n",
            "Found 2487 images belonging to 4 classes.\n",
            "Found 1491 images belonging to 4 classes.\n"
          ],
          "name": "stdout"
        }
      ]
    },
    {
      "cell_type": "code",
      "metadata": {
        "id": "_8qSLMd2ypdh"
      },
      "source": [
        "class ResNet(tf.keras.Model):\n",
        "  def __init__(self, num_classes=4):\n",
        "    super(ResNet, self).__init__()\n",
        "    # inp = tf.keras.layers.Input(shape=(256, 256, 3))\n",
        "    self.resnet = tf.keras.applications.ResNet50(include_top=False, weights='imagenet',\n",
        "                                                 input_shape=(224,224,3))\n",
        "    self.preprocess = tf.keras.layers.Lambda(tf.keras.applications.resnet50.preprocess_input)\n",
        "    self.pooling = tf.keras.layers.GlobalAveragePooling2D()\n",
        "    self.dense1 = tf.keras.layers.Dense(num_classes, activation='softmax')\n",
        "\n",
        "  def call(self, inputs):\n",
        "    x = self.preprocess(inputs)\n",
        "    x = self.resnet(x)\n",
        "    x = self.pooling(x)\n",
        "    x = self.dense1(x)\n",
        "    return x"
      ],
      "execution_count": 9,
      "outputs": []
    },
    {
      "cell_type": "code",
      "metadata": {
        "colab": {
          "base_uri": "https://localhost:8080/"
        },
        "id": "EIdX2h7cmhu0",
        "outputId": "f167f6cd-d676-45bb-c264-43c2ae3d1f01"
      },
      "source": [
        "if __name__ == \"__main__\":\n",
        "  resnet = ResNet()\n",
        "  resnet.compile(optimizer='adam', loss='categorical_crossentropy', metrics=['accuracy'])\n",
        "  resnet.fit(train_images, validation_data=val_images, epochs=50,\n",
        "             callbacks=[\n",
        "                        tf.keras.callbacks.EarlyStopping(\n",
        "                            monitor='val_loss',\n",
        "                            patience=3,\n",
        "                            restore_best_weights=True\n",
        "                        )\n",
        "             ])"
      ],
      "execution_count": 10,
      "outputs": [
        {
          "output_type": "stream",
          "text": [
            "Downloading data from https://storage.googleapis.com/tensorflow/keras-applications/resnet/resnet50_weights_tf_dim_ordering_tf_kernels_notop.h5\n",
            "94773248/94765736 [==============================] - 1s 0us/step\n",
            "Epoch 1/50\n",
            "265/265 [==============================] - 125s 451ms/step - loss: 0.6214 - accuracy: 0.7711 - val_loss: 5.4990 - val_accuracy: 0.5500\n",
            "Epoch 2/50\n",
            "265/265 [==============================] - 118s 446ms/step - loss: 0.1699 - accuracy: 0.9394 - val_loss: 0.1800 - val_accuracy: 0.9302\n",
            "Epoch 3/50\n",
            "265/265 [==============================] - 118s 445ms/step - loss: 0.0829 - accuracy: 0.9703 - val_loss: 131.3742 - val_accuracy: 0.2495\n",
            "Epoch 4/50\n",
            "265/265 [==============================] - 118s 443ms/step - loss: 0.1931 - accuracy: 0.9297 - val_loss: 1.1647 - val_accuracy: 0.7840\n",
            "Epoch 5/50\n",
            "265/265 [==============================] - 118s 444ms/step - loss: 0.0778 - accuracy: 0.9712 - val_loss: 0.2105 - val_accuracy: 0.9269\n"
          ],
          "name": "stdout"
        }
      ]
    },
    {
      "cell_type": "code",
      "metadata": {
        "colab": {
          "base_uri": "https://localhost:8080/"
        },
        "id": "VofU6jmJjuh4",
        "outputId": "49d01bc9-29a2-48f7-826e-a09e476b3ae6"
      },
      "source": [
        "CLASS_NAMES = list(train_images.class_indices.keys())\n",
        "CLASS_NAMES"
      ],
      "execution_count": 17,
      "outputs": [
        {
          "output_type": "execute_result",
          "data": {
            "text/plain": [
              "['EOSINOPHIL', 'LYMPHOCYTE', 'MONOCYTE', 'NEUTROPHIL']"
            ]
          },
          "metadata": {
            "tags": []
          },
          "execution_count": 17
        }
      ]
    },
    {
      "cell_type": "code",
      "metadata": {
        "colab": {
          "base_uri": "https://localhost:8080/",
          "height": 530
        },
        "id": "Vxc2o-4XkK3N",
        "outputId": "ef83f50d-e6bf-407e-b1b0-87a68be1c98a"
      },
      "source": [
        "import matplotlib.pyplot as plt\n",
        "import seaborn as sns\n",
        "from sklearn.metrics import accuracy_score,confusion_matrix, classification_report\n",
        "\n",
        "predictions = np.argmax(resnet.predict(test_images), axis=1)\n",
        "\n",
        "acc = accuracy_score(test_images.labels, predictions)\n",
        "cm = tf.math.confusion_matrix(test_images.labels, predictions)\n",
        "clr = classification_report(test_images.labels, predictions, target_names=CLASS_NAMES)\n",
        "\n",
        "print(\"Test Accuracy: {:.3f}%\".format(acc * 100))\n",
        "\n",
        "plt.figure(figsize=(8, 8))\n",
        "sns.heatmap(cm, annot=True, fmt='g', vmin=0, cmap='Blues', cbar=False)\n",
        "plt.xticks(ticks= np.arange(4) + 0.5, labels=CLASS_NAMES)\n",
        "plt.yticks(ticks= np.arange(4) + 0.5, labels=CLASS_NAMES)\n",
        "plt.xlabel(\"Predicted\")\n",
        "plt.ylabel(\"Actual\")\n",
        "plt.title(\"Confusion Matrix\")\n",
        "plt.show()"
      ],
      "execution_count": 19,
      "outputs": [
        {
          "output_type": "stream",
          "text": [
            "Test Accuracy: 84.922%\n"
          ],
          "name": "stdout"
        },
        {
          "output_type": "display_data",
          "data": {
            "image/png": "[encoded data removed]",
            "text/plain": [
              "<Figure size 576x576 with 1 Axes>"
            ]
          },
          "metadata": {
            "tags": [],
            "needs_background": "light"
          }
        }
      ]
    },
    {
      "cell_type": "code",
      "metadata": {
        "colab": {
          "base_uri": "https://localhost:8080/"
        },
        "id": "GtAejBUBkOGl",
        "outputId": "b63e6c72-9822-491b-e00d-6a883db70adb"
      },
      "source": [
        "test_image = tf.keras.preprocessing.image.load_img(\n",
        "    '/content/dataset2-master/dataset2-master/images/TEST/EOSINOPHIL/_0_1845.jpeg',\n",
        "    target_size = (224, 224))\n",
        "test_image = tf.keras.preprocessing.image.img_to_array(test_image)\n",
        "test_image = np.expand_dims(test_image, axis = 0)\n",
        "result = np.argmax(resnet.predict(test_image), axis=1)\n",
        "print(result)\n",
        "train_images.class_indices"
      ],
      "execution_count": 20,
      "outputs": [
        {
          "output_type": "stream",
          "text": [
            "[0]\n"
          ],
          "name": "stdout"
        },
        {
          "output_type": "execute_result",
          "data": {
            "text/plain": [
              "{'EOSINOPHIL': 0, 'LYMPHOCYTE': 1, 'MONOCYTE': 2, 'NEUTROPHIL': 3}"
            ]
          },
          "metadata": {
            "tags": []
          },
          "execution_count": 20
        }
      ]
    },
    {
      "cell_type": "code",
      "metadata": {
        "colab": {
          "base_uri": "https://localhost:8080/"
        },
        "id": "xxjbVBS5khqc",
        "outputId": "2e0b47a5-ec31-4cab-e14c-44f47351f8d5"
      },
      "source": [
        "resnet.save('/content/gdrive/MyDrive/Jovian/rishabdhar12 blood-cell-images/model_2')"
      ],
      "execution_count": 21,
      "outputs": [
        {
          "output_type": "stream",
          "text": [
            "INFO:tensorflow:Assets written to: /content/gdrive/MyDrive/Jovian/rishabdhar12 blood-cell-images/model_2/assets\n"
          ],
          "name": "stdout"
        }
      ]
    },
    {
      "cell_type": "code",
      "metadata": {
        "colab": {
          "base_uri": "https://localhost:8080/",
          "height": 139
        },
        "id": "oLh5t6wGk2c-",
        "outputId": "235c3fbc-2e9d-4897-e505-2952a388fad0"
      },
      "source": [
        "jovian.commit('blood-cell-new')"
      ],
      "execution_count": 23,
      "outputs": [
        {
          "output_type": "stream",
          "text": [
            "[jovian] Detected Colab notebook...\u001b[0m\n",
            "[jovian] Please enter your API key ( from https://jovian.ai/ ):\u001b[0m\n",
            "API KEY: ··········\n",
            "[jovian] Uploading colab notebook to Jovian...\u001b[0m\n",
            "[jovian] Capturing environment..\u001b[0m\n",
            "[jovian] Committed successfully! https://jovian.ai/rishabdhar12/tf-pipeline\u001b[0m\n"
          ],
          "name": "stdout"
        },
        {
          "output_type": "execute_result",
          "data": {
            "application/vnd.google.colaboratory.intrinsic+json": {
              "type": "string"
            },
            "text/plain": [
              "'https://jovian.ai/rishabdhar12/tf-pipeline'"
            ]
          },
          "metadata": {
            "tags": []
          },
          "execution_count": 23
        }
      ]
    },
    {
      "cell_type": "code",
      "metadata": {
        "id": "tRDY0Ay9lF2c"
      },
      "source": [
        ""
      ],
      "execution_count": null,
      "outputs": []
    }
  ]
}